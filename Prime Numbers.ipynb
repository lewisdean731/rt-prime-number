{
 "cells": [
  {
   "cell_type": "markdown",
   "metadata": {},
   "source": [
    "# Prime Numbers\n",
    "\n",
    "#### Lewis Dean\n",
    "\n"
   ]
  },
  {
   "cell_type": "markdown",
   "metadata": {},
   "source": [
    "## What is a prime number?\n",
    "\n",
    "> A prime number is a natural number greater than 1 that is not a product of two smaller natural numbers. \n",
    ">\n",
    "> -- Wikipeida"
   ]
  },
  {
   "cell_type": "markdown",
   "metadata": {},
   "source": [
    "## Basic Timed Example\n",
    "\n",
    "Below is a small program that lists the prime numbers up to 100, with the time taken. 1 is not a prime number, so we start at 2."
   ]
  },
  {
   "cell_type": "code",
   "execution_count": 1,
   "metadata": {},
   "outputs": [
    {
     "name": "stdout",
     "output_type": "stream",
     "text": [
      "[2, 3, 5, 7, 11, 13, 17, 19, 23, 29, 31, 37, 41, 43, 47, 53, 59, 61, 67, 71, 73, 79, 83, 89, 97]\n",
      "CPU times: user 659 µs, sys: 231 µs, total: 890 µs\n",
      "Wall time: 751 µs\n"
     ]
    }
   ],
   "source": [
    "%%time\n",
    "primes = []\n",
    "\n",
    "def isPrime(n):\n",
    "    for i in range(2, n):\n",
    "        if (n % i) == 0:\n",
    "            break\n",
    "    else: \n",
    "        return True\n",
    "    return False\n",
    "\n",
    "for number in range (2,101):\n",
    "    if isPrime(number):\n",
    "        primes.append(number)\n",
    "        \n",
    "print(primes)"
   ]
  },
  {
   "cell_type": "markdown",
   "metadata": {},
   "source": [
    "## Making Improvements\n",
    "\n",
    "Any multiples of 2 (other than 2 itself) are not prime numbers. So we can skip checking them. \n",
    "We can pass a `step` value to `range` of 2, and by starting on an odd number we will always skip even ones."
   ]
  },
  {
   "cell_type": "code",
   "execution_count": 2,
   "metadata": {},
   "outputs": [
    {
     "name": "stdout",
     "output_type": "stream",
     "text": [
      "[2, 3, 5, 7, 11, 13, 17, 19, 23, 29, 31, 37, 41, 43, 47, 53, 59, 61, 67, 71, 73, 79, 83, 89, 97]\n",
      "CPU times: user 567 µs, sys: 369 µs, total: 936 µs\n",
      "Wall time: 670 µs\n"
     ]
    }
   ],
   "source": [
    "%%time\n",
    "primes = [2]\n",
    "\n",
    "def isPrime(n):\n",
    "    for i in range(3, n, 2):\n",
    "        if (n % i) == 0:\n",
    "            break\n",
    "    else: \n",
    "        return True\n",
    "    return False\n",
    "\n",
    "for number in range (3,101, 2):\n",
    "    if isPrime(number):\n",
    "        primes.append(number)\n",
    "        \n",
    "print(primes)"
   ]
  }
 ],
 "metadata": {
  "kernelspec": {
   "display_name": "Python 3",
   "language": "python",
   "name": "python3"
  },
  "language_info": {
   "codemirror_mode": {
    "name": "ipython",
    "version": 3
   },
   "file_extension": ".py",
   "mimetype": "text/x-python",
   "name": "python",
   "nbconvert_exporter": "python",
   "pygments_lexer": "ipython3",
   "version": "3.8.5"
  }
 },
 "nbformat": 4,
 "nbformat_minor": 4
}
