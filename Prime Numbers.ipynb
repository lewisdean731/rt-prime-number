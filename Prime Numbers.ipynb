{
 "cells": [
  {
   "cell_type": "markdown",
   "metadata": {},
   "source": [
    "# Prime Numbers\n",
    "\n",
    "#### Lewis Dean\n",
    "\n"
   ]
  },
  {
   "cell_type": "markdown",
   "metadata": {},
   "source": [
    "## What is a prime number?\n",
    "\n",
    "> A prime number is a natural number greater than 1 that is not a product of two smaller natural numbers. \n",
    ">\n",
    "> -- Wikipeida"
   ]
  },
  {
   "cell_type": "markdown",
   "metadata": {},
   "source": [
    "## Basic Timed Example\n",
    "\n",
    "Below is a small program that lists the prime numbers up to 100, with the time taken. 1 is not a prime number, so we start at 2."
   ]
  },
  {
   "cell_type": "code",
   "execution_count": null,
   "metadata": {},
   "outputs": [],
   "source": [
    "import timeit\n",
    "import time"
   ]
  },
  {
   "cell_type": "code",
   "execution_count": null,
   "metadata": {},
   "outputs": [],
   "source": [
    "def genPrimes():\n",
    "    primes = []\n",
    "    def isPrime(n):\n",
    "        for i in range(2, n):\n",
    "            if (n % i) == 0:\n",
    "                break\n",
    "        else: \n",
    "            return True\n",
    "        return False\n",
    "\n",
    "    for number in range (2,101):\n",
    "        if isPrime(number):\n",
    "            primes.append(number)\n",
    "    return primes\n",
    "print(genPrimes())"
   ]
  },
  {
   "cell_type": "code",
   "execution_count": null,
   "metadata": {},
   "outputs": [],
   "source": [
    "timeBasic = timeit.timeit(\n",
    "    globals=globals(),  # access the global variables in this scope\n",
    "    stmt='[genPrimes()]',\n",
    "    number=10000,\n",
    "    timer=time.perf_counter\n",
    ") * 1e+6 / 1000 # convert to average time in microseconds\n",
    "print(f'Took {timeBasic} microseconds')"
   ]
  },
  {
   "cell_type": "markdown",
   "metadata": {},
   "source": [
    "## Making Improvements\n",
    "\n",
    "Any multiples of 2 (other than 2 itself) are not prime numbers. So we can skip checking them. \n",
    "We can pass a `step` value to `range` of 2, and by starting on an odd number we will always skip even ones."
   ]
  },
  {
   "cell_type": "code",
   "execution_count": null,
   "metadata": {},
   "outputs": [],
   "source": [
    "def genPrimes():\n",
    "    primes = []\n",
    "    def isPrime(n):\n",
    "        for i in range(3, n, 2):\n",
    "            if (n % i) == 0:\n",
    "                break\n",
    "        else: \n",
    "            return True\n",
    "        return False\n",
    "\n",
    "    for number in range (3,101, 2):\n",
    "        if isPrime(number):\n",
    "            primes.append(number)\n",
    "    return primes\n",
    "print(genPrimes())"
   ]
  },
  {
   "cell_type": "code",
   "execution_count": null,
   "metadata": {},
   "outputs": [],
   "source": [
    "timeSkipEvens = timeit.timeit(\n",
    "    globals=globals(),  # access the global variables in this scope\n",
    "    stmt='[genPrimes()]',\n",
    "    number=10000,\n",
    "    timer=time.perf_counter\n",
    ") * 1e+6 / 1000 # convert to average time in microseconds\n",
    "print(f'Took {timeSkipEvens} microseconds')"
   ]
  },
  {
   "cell_type": "markdown",
   "metadata": {},
   "source": [
    "## Further Improvements\n",
    "\n",
    "A prime number is never made up of two factors greater than the square root of the prime. This means we only need to check up to the square root of the number being tested."
   ]
  },
  {
   "cell_type": "code",
   "execution_count": null,
   "metadata": {},
   "outputs": [],
   "source": [
    "import math"
   ]
  },
  {
   "cell_type": "code",
   "execution_count": null,
   "metadata": {},
   "outputs": [],
   "source": [
    "def genPrimes():\n",
    "    primes = []\n",
    "    def isPrime(n):\n",
    "        for i in range(3, int(math.sqrt(n)+1), 2):\n",
    "            if (n % i) == 0:\n",
    "                break\n",
    "        else: \n",
    "            return True\n",
    "        return False\n",
    "\n",
    "    for number in range (3,101, 2):\n",
    "        if isPrime(number):\n",
    "            primes.append(number)\n",
    "    return primes\n",
    "print(genPrimes())"
   ]
  },
  {
   "cell_type": "code",
   "execution_count": null,
   "metadata": {},
   "outputs": [],
   "source": [
    "timeSquareRoot = timeit.timeit(\n",
    "    globals=globals(),  # access the global variables in this scope\n",
    "    stmt='[genPrimes()]',\n",
    "    number=10000,\n",
    "    timer=time.perf_counter\n",
    ") * 1e+6 / 1000 # convert to average time in microseconds\n",
    "print(f'Took {timeSquareRoot} microseconds')"
   ]
  },
  {
   "cell_type": "markdown",
   "metadata": {},
   "source": [
    "## Comparing the speeds\n",
    "\n",
    "Calculating just 100 prime numbers can lead to some large boudaries in timings, however when repeated using timeit, the speed difference between the methods is more apparent."
   ]
  },
  {
   "cell_type": "code",
   "execution_count": null,
   "metadata": {},
   "outputs": [],
   "source": [
    "import pandas as pd\n",
    "df = pd.DataFrame({\n",
    "    'Basic': [timeBasic],\n",
    "    'Skip Evens': [timeSkipEvens],\n",
    "    'Square Root': [timeSquareRoot],\n",
    "})\n",
    "\n",
    "df.plot.bar(xlabel=\"Method\", ylabel=\"Time taken (microseconds)\")"
   ]
  }
 ],
 "metadata": {
  "kernelspec": {
   "display_name": "Python 3",
   "language": "python",
   "name": "python3"
  },
  "language_info": {
   "codemirror_mode": {
    "name": "ipython",
    "version": 3
   },
   "file_extension": ".py",
   "mimetype": "text/x-python",
   "name": "python",
   "nbconvert_exporter": "python",
   "pygments_lexer": "ipython3",
   "version": "3.8.5"
  }
 },
 "nbformat": 4,
 "nbformat_minor": 4
}
