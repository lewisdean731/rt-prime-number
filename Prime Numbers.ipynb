{
 "cells": [
  {
   "cell_type": "markdown",
   "metadata": {},
   "source": [
    "# Prime Numbers\n",
    "\n",
    "#### Lewis Dean\n",
    "\n"
   ]
  },
  {
   "cell_type": "markdown",
   "metadata": {},
   "source": [
    "## What is a prime number?\n",
    "\n",
    "> A prime number is a natural number greater than 1 that is not a product of two smaller natural numbers. \n",
    ">\n",
    "> -- Wikipeida"
   ]
  },
  {
   "cell_type": "markdown",
   "metadata": {},
   "source": [
    "## Basic Timed Example\n",
    "\n",
    "Below is a small program that lists the prime numbers up to 100, with the time taken. 1 is not a prime number, so we start at 2."
   ]
  },
  {
   "cell_type": "code",
   "execution_count": 1,
   "metadata": {},
   "outputs": [
    {
     "name": "stdout",
     "output_type": "stream",
     "text": [
      "[2, 3, 5, 7, 11, 13, 17, 19, 23, 29, 31, 37, 41, 43, 47, 53, 59, 61, 67, 71, 73, 79, 83, 89, 97]\n",
      "CPU times: user 340 µs, sys: 86 µs, total: 426 µs\n",
      "Wall time: 385 µs\n"
     ]
    }
   ],
   "source": [
    "%%time\n",
    "primes = []\n",
    "\n",
    "def isPrime(n):\n",
    "    for i in range(2, n):\n",
    "        if (n % i) == 0:\n",
    "            break\n",
    "    else: \n",
    "        return True\n",
    "    return False\n",
    "\n",
    "for number in range (2,101):\n",
    "    if isPrime(number):\n",
    "        primes.append(number)\n",
    "        \n",
    "print(primes)"
   ]
  },
  {
   "cell_type": "markdown",
   "metadata": {},
   "source": [
    "## Making Improvements\n",
    "\n",
    "Any multiples of 2 (other than 2 itself) are not prime numbers. So we can skip checking them. \n",
    "We can pass a `step` value to `range` of 2, and by starting on an odd number we will always skip even ones."
   ]
  },
  {
   "cell_type": "code",
   "execution_count": 2,
   "metadata": {},
   "outputs": [
    {
     "name": "stdout",
     "output_type": "stream",
     "text": [
      "[2, 3, 5, 7, 11, 13, 17, 19, 23, 29, 31, 37, 41, 43, 47, 53, 59, 61, 67, 71, 73, 79, 83, 89, 97]\n",
      "CPU times: user 288 µs, sys: 193 µs, total: 481 µs\n",
      "Wall time: 323 µs\n"
     ]
    }
   ],
   "source": [
    "%%time\n",
    "primes = [2]\n",
    "\n",
    "def isPrime(n):\n",
    "    for i in range(3, n, 2):\n",
    "        if (n % i) == 0:\n",
    "            break\n",
    "    else: \n",
    "        return True\n",
    "    return False\n",
    "\n",
    "for number in range (3,101, 2):\n",
    "    if isPrime(number):\n",
    "        primes.append(number)\n",
    "        \n",
    "print(primes)"
   ]
  },
  {
   "cell_type": "markdown",
   "metadata": {},
   "source": [
    "## Further Improvements\n",
    "\n",
    "A prime number is never made up of two factors greater than the square root of the prime. This means we only need to check up to the square root of the number being tested."
   ]
  },
  {
   "cell_type": "code",
   "execution_count": 3,
   "metadata": {},
   "outputs": [],
   "source": [
    "import math"
   ]
  },
  {
   "cell_type": "code",
   "execution_count": 4,
   "metadata": {},
   "outputs": [
    {
     "name": "stdout",
     "output_type": "stream",
     "text": [
      "[2, 3, 5, 7, 11, 13, 17, 19, 23, 29, 31, 37, 41, 43, 47, 53, 59, 61, 67, 71, 73, 79, 83, 89, 97]\n",
      "CPU times: user 217 µs, sys: 47 µs, total: 264 µs\n",
      "Wall time: 223 µs\n"
     ]
    }
   ],
   "source": [
    "%%time\n",
    "primes = [2]\n",
    "\n",
    "def isPrime(n):\n",
    "    for i in range(3, int(math.sqrt(n)+1), 2):\n",
    "        if (n % i) == 0:\n",
    "            break\n",
    "    else: \n",
    "        return True\n",
    "    return False\n",
    "\n",
    "for number in range (3,101, 2):\n",
    "    if isPrime(number):\n",
    "        primes.append(number)\n",
    "        \n",
    "print(primes)"
   ]
  },
  {
   "cell_type": "markdown",
   "metadata": {},
   "source": [
    "## The Sieve of Eratosthenes\n",
    "\n",
    "See: https://en.wikipedia.org/wiki/Sieve_of_Eratosthenes\n"
   ]
  },
  {
   "cell_type": "code",
   "execution_count": 5,
   "metadata": {},
   "outputs": [
    {
     "name": "stdout",
     "output_type": "stream",
     "text": [
      "[2, 3, 5, 7, 11, 13, 17, 19, 23, 29, 31, 37, 41, 43, 47, 53, 59, 61, 67, 71, 73, 79, 83, 89, 97]\n",
      "[1, 9, 18, 27, 36, 45, 54, 63, 72, 81, 90, 99, 15, 30, 45, 60, 75, 90, 21, 42, 63, 84, 25, 50, 75, 100, 27, 54, 81, 33, 66, 99, 35, 70, 39, 78, 45, 90, 49, 98, 51, 55, 57, 63, 65, 69, 75, 77, 81, 85, 87, 91, 93, 95, 99]\n",
      "CPU times: user 837 µs, sys: 117 µs, total: 954 µs\n",
      "Wall time: 951 µs\n"
     ]
    }
   ],
   "source": [
    "# WIP\n",
    "%%time\n",
    "primes = [2]\n",
    "notPrimes = [1]\n",
    "\n",
    "def isPrime(n):\n",
    "    if n not in notPrimes:\n",
    "        for i in range(3, int(math.sqrt(n)+1), 2):\n",
    "            if (n % i) == 0:\n",
    "                break\n",
    "        else: \n",
    "            return True\n",
    "    return False\n",
    "\n",
    "def genPrimes(limit):\n",
    "    # Loop up to limit, skipping 1,2 and even numbers\n",
    "    for i in range(3, limit+1, 2):\n",
    "        if isPrime(i):\n",
    "            primes.append(i)\n",
    "        else:\n",
    "            notPrimes.extend([n for n in range(3, limit + 1) if n % i == 0])\n",
    "\n",
    "\n",
    "genPrimes(100)     \n",
    "print(primes)\n",
    "print(notPrimes)"
   ]
  }
 ],
 "metadata": {
  "kernelspec": {
   "display_name": "Python 3",
   "language": "python",
   "name": "python3"
  },
  "language_info": {
   "codemirror_mode": {
    "name": "ipython",
    "version": 3
   },
   "file_extension": ".py",
   "mimetype": "text/x-python",
   "name": "python",
   "nbconvert_exporter": "python",
   "pygments_lexer": "ipython3",
   "version": "3.8.5"
  }
 },
 "nbformat": 4,
 "nbformat_minor": 4
}
